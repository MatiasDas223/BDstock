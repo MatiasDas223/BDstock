{
 "cells": [
  {
   "cell_type": "code",
   "execution_count": 4,
   "metadata": {},
   "outputs": [],
   "source": [
    "import streamlit as st\n",
    "from datetime import date\n",
    "import pymysql\n",
    "\n",
    "st.title(\"Informe de Bajas por Producto\")\n",
    "\n",
    "# Selección de Familia\n",
    "familia = st.selectbox(\"Selecciona la Familia de Productos:\", [\"Familia 1\", \"Familia 2\", \"Familia 3\", ...])\n",
    "\n",
    "# Selección de Rango de Fechas\n",
    "fecha_inicio = st.date_input(\"Fecha de Inicio\", date.today())\n",
    "fecha_fin = st.date_input(\"Fecha de Fin\", date.today())\n"
   ]
  },
  {
   "cell_type": "code",
   "execution_count": 5,
   "metadata": {},
   "outputs": [],
   "source": [
    "def obtener_informe(familia, fecha_inicio, fecha_fin):\n",
    "    # Cadena de conexión a la base de datos (ajusta según tu configuración)\n",
    "    conn = pymysql.connect(host='tu_host', user='tu_usuario', password='tu_contraseña', db='tu_base_de_datos')\n",
    "\n",
    "    try:\n",
    "        with conn.cursor() as cursor:\n",
    "            # Preparar la consulta SQL\n",
    "            query = f\"\"\"\n",
    "            SELECT Motivo, SUM(Cantidad) AS total\n",
    "            FROM Roturas\n",
    "            WHERE Familia = %s AND fecha BETWEEN %s AND %s\n",
    "            GROUP BY Motivo;\n",
    "            \"\"\"\n",
    "            # Ejecutar la consulta\n",
    "            cursor.execute(query, (familia, fecha_inicio, fecha_fin))\n",
    "\n",
    "            # Obtener los resultados\n",
    "            resultados = cursor.fetchall()\n",
    "            return resultados\n",
    "\n",
    "    finally:\n",
    "        conn.close()"
   ]
  },
  {
   "cell_type": "code",
   "execution_count": 6,
   "metadata": {},
   "outputs": [],
   "source": [
    "if st.button(\"Generar Informe\"):\n",
    "    # Llamada a la función para obtener los resultados\n",
    "    resultados = obtener_informe(familia, fecha_inicio, fecha_fin)\n",
    "\n",
    "    # Verificar si hay resultados\n",
    "    if resultados:\n",
    "        # Mostrar los resultados en un formato adecuado\n",
    "        for causa, total in resultados:\n",
    "            st.write(f\"Causa: {causa}, Total: {total}\")\n",
    "    else:\n",
    "        st.write(\"No se encontraron resultados.\")"
   ]
  },
  {
   "cell_type": "code",
   "execution_count": 3,
   "metadata": {},
   "outputs": [],
   "source": [
    "from app import obtener_informe\n",
    "\n",
    "resultados = obtener_informe('APERITIVOS CON ALCOHOL', '2023-11-01', '2023-12-18')"
   ]
  }
 ],
 "metadata": {
  "kernelspec": {
   "display_name": "Python 3",
   "language": "python",
   "name": "python3"
  },
  "language_info": {
   "codemirror_mode": {
    "name": "ipython",
    "version": 3
   },
   "file_extension": ".py",
   "mimetype": "text/x-python",
   "name": "python",
   "nbconvert_exporter": "python",
   "pygments_lexer": "ipython3",
   "version": "3.11.6"
  }
 },
 "nbformat": 4,
 "nbformat_minor": 2
}
