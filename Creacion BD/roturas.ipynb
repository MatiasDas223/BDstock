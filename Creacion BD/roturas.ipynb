{
 "cells": [
  {
   "cell_type": "code",
   "execution_count": 7,
   "metadata": {},
   "outputs": [],
   "source": [
    "import pandas as pd\n",
    "import glob\n",
    "import os"
   ]
  },
  {
   "cell_type": "code",
   "execution_count": 29,
   "metadata": {},
   "outputs": [],
   "source": [
    "ruta_base = r\"\\\\layla\\\\Documentos\\\\STOCK\\\\\"\n"
   ]
  },
  {
   "cell_type": "code",
   "execution_count": 34,
   "metadata": {},
   "outputs": [],
   "source": [
    "ruta_carpetas_base = glob.glob(ruta_base + 'Sto*')"
   ]
  },
  {
   "cell_type": "code",
   "execution_count": 37,
   "metadata": {},
   "outputs": [],
   "source": [
    "rutas_imagen = []\n",
    "\n",
    "for ruta in ruta_carpetas_base:\n",
    "    # Construye la ruta hacia la carpeta \"10- ROTURAS\"\n",
    "    ruta_roturas = os.path.join(ruta, '10- ROTURAS')\n",
    "    \n",
    "    # Verifica si la carpeta \"10- ROTURAS\" existe\n",
    "    if os.path.exists(ruta_roturas):\n",
    "        # Construye la ruta hacia la carpeta \"IMAGEN\" dentro de \"10- ROTURAS\"\n",
    "        ruta_imagen = os.path.join(ruta_roturas, 'INFORME')\n",
    "\n",
    "        # Verifica si la carpeta \"IMAGEN\" existe\n",
    "        if os.path.exists(ruta_imagen):\n",
    "            rutas_imagen.append(ruta_imagen)"
   ]
  },
  {
   "cell_type": "code",
   "execution_count": 40,
   "metadata": {},
   "outputs": [
    {
     "data": {
      "text/plain": [
       "['\\\\\\\\layla\\\\\\\\Documentos\\\\\\\\STOCK\\\\Stock 2021\\\\10- ROTURAS\\\\INFORME\\\\01 - ENERO2021\\\\',\n",
       " '\\\\\\\\layla\\\\\\\\Documentos\\\\\\\\STOCK\\\\Stock 2021\\\\10- ROTURAS\\\\INFORME\\\\02 - FEBRERO2021\\\\',\n",
       " '\\\\\\\\layla\\\\\\\\Documentos\\\\\\\\STOCK\\\\Stock 2021\\\\10- ROTURAS\\\\INFORME\\\\03 - MARZO 2021\\\\',\n",
       " '\\\\\\\\layla\\\\\\\\Documentos\\\\\\\\STOCK\\\\Stock 2021\\\\10- ROTURAS\\\\INFORME\\\\04 - ABRIL2021\\\\',\n",
       " '\\\\\\\\layla\\\\\\\\Documentos\\\\\\\\STOCK\\\\Stock 2021\\\\10- ROTURAS\\\\INFORME\\\\05 - MAYO2021\\\\',\n",
       " '\\\\\\\\layla\\\\\\\\Documentos\\\\\\\\STOCK\\\\Stock 2021\\\\10- ROTURAS\\\\INFORME\\\\06 - JUNIO2021\\\\',\n",
       " '\\\\\\\\layla\\\\\\\\Documentos\\\\\\\\STOCK\\\\Stock 2021\\\\10- ROTURAS\\\\INFORME\\\\07- JULIO 2021\\\\',\n",
       " '\\\\\\\\layla\\\\\\\\Documentos\\\\\\\\STOCK\\\\Stock 2021\\\\10- ROTURAS\\\\INFORME\\\\08- AGOSTO 2021\\\\',\n",
       " '\\\\\\\\layla\\\\\\\\Documentos\\\\\\\\STOCK\\\\Stock 2021\\\\10- ROTURAS\\\\INFORME\\\\09- SEPTIEMBRE 2021\\\\',\n",
       " '\\\\\\\\layla\\\\\\\\Documentos\\\\\\\\STOCK\\\\Stock 2021\\\\10- ROTURAS\\\\INFORME\\\\10- OCTUBRE 2021\\\\',\n",
       " '\\\\\\\\layla\\\\\\\\Documentos\\\\\\\\STOCK\\\\Stock 2021\\\\10- ROTURAS\\\\INFORME\\\\11 NOVIEMBRE\\\\',\n",
       " '\\\\\\\\layla\\\\\\\\Documentos\\\\\\\\STOCK\\\\Stock 2021\\\\10- ROTURAS\\\\INFORME\\\\12- DICIEMBRE 2021\\\\',\n",
       " '\\\\\\\\layla\\\\\\\\Documentos\\\\\\\\STOCK\\\\Stock 2022\\\\10- ROTURAS\\\\INFORME\\\\01- ENERO\\\\',\n",
       " '\\\\\\\\layla\\\\\\\\Documentos\\\\\\\\STOCK\\\\Stock 2022\\\\10- ROTURAS\\\\INFORME\\\\02- FEBRERO\\\\',\n",
       " '\\\\\\\\layla\\\\\\\\Documentos\\\\\\\\STOCK\\\\Stock 2022\\\\10- ROTURAS\\\\INFORME\\\\03- MARZO\\\\',\n",
       " '\\\\\\\\layla\\\\\\\\Documentos\\\\\\\\STOCK\\\\Stock 2022\\\\10- ROTURAS\\\\INFORME\\\\04- ABRIL\\\\',\n",
       " '\\\\\\\\layla\\\\\\\\Documentos\\\\\\\\STOCK\\\\Stock 2022\\\\10- ROTURAS\\\\INFORME\\\\05- MAYO\\\\',\n",
       " '\\\\\\\\layla\\\\\\\\Documentos\\\\\\\\STOCK\\\\Stock 2022\\\\10- ROTURAS\\\\INFORME\\\\06- JUNIO\\\\',\n",
       " '\\\\\\\\layla\\\\\\\\Documentos\\\\\\\\STOCK\\\\Stock 2022\\\\10- ROTURAS\\\\INFORME\\\\07- JULIO\\\\',\n",
       " '\\\\\\\\layla\\\\\\\\Documentos\\\\\\\\STOCK\\\\Stock 2022\\\\10- ROTURAS\\\\INFORME\\\\08- AGOSTO\\\\',\n",
       " '\\\\\\\\layla\\\\\\\\Documentos\\\\\\\\STOCK\\\\Stock 2022\\\\10- ROTURAS\\\\INFORME\\\\09- SEPTIEMBRE\\\\',\n",
       " '\\\\\\\\layla\\\\\\\\Documentos\\\\\\\\STOCK\\\\Stock 2022\\\\10- ROTURAS\\\\INFORME\\\\10-OCTUBRE\\\\',\n",
       " '\\\\\\\\layla\\\\\\\\Documentos\\\\\\\\STOCK\\\\Stock 2022\\\\10- ROTURAS\\\\INFORME\\\\11- NOVIEMBRE\\\\',\n",
       " '\\\\\\\\layla\\\\\\\\Documentos\\\\\\\\STOCK\\\\Stock 2022\\\\10- ROTURAS\\\\INFORME\\\\12-DICIEMBRE\\\\',\n",
       " '\\\\\\\\layla\\\\\\\\Documentos\\\\\\\\STOCK\\\\Stock 2023\\\\10- ROTURAS\\\\INFORME\\\\1-ENERO\\\\',\n",
       " '\\\\\\\\layla\\\\\\\\Documentos\\\\\\\\STOCK\\\\Stock 2023\\\\10- ROTURAS\\\\INFORME\\\\10-OCTUBRE\\\\',\n",
       " '\\\\\\\\layla\\\\\\\\Documentos\\\\\\\\STOCK\\\\Stock 2023\\\\10- ROTURAS\\\\INFORME\\\\11-NOVIEMBRE\\\\',\n",
       " '\\\\\\\\layla\\\\\\\\Documentos\\\\\\\\STOCK\\\\Stock 2023\\\\10- ROTURAS\\\\INFORME\\\\12-DICIEMBRE\\\\',\n",
       " '\\\\\\\\layla\\\\\\\\Documentos\\\\\\\\STOCK\\\\Stock 2023\\\\10- ROTURAS\\\\INFORME\\\\2-FEBRERO\\\\',\n",
       " '\\\\\\\\layla\\\\\\\\Documentos\\\\\\\\STOCK\\\\Stock 2023\\\\10- ROTURAS\\\\INFORME\\\\3-MARZO\\\\',\n",
       " '\\\\\\\\layla\\\\\\\\Documentos\\\\\\\\STOCK\\\\Stock 2023\\\\10- ROTURAS\\\\INFORME\\\\4-ABRIL\\\\',\n",
       " '\\\\\\\\layla\\\\\\\\Documentos\\\\\\\\STOCK\\\\Stock 2023\\\\10- ROTURAS\\\\INFORME\\\\5-MAYO\\\\',\n",
       " '\\\\\\\\layla\\\\\\\\Documentos\\\\\\\\STOCK\\\\Stock 2023\\\\10- ROTURAS\\\\INFORME\\\\6-JUNIO\\\\',\n",
       " '\\\\\\\\layla\\\\\\\\Documentos\\\\\\\\STOCK\\\\Stock 2023\\\\10- ROTURAS\\\\INFORME\\\\7-JULIO\\\\',\n",
       " '\\\\\\\\layla\\\\\\\\Documentos\\\\\\\\STOCK\\\\Stock 2023\\\\10- ROTURAS\\\\INFORME\\\\8-AGOSTO\\\\',\n",
       " '\\\\\\\\layla\\\\\\\\Documentos\\\\\\\\STOCK\\\\Stock 2023\\\\10- ROTURAS\\\\INFORME\\\\9-SEPTIEMBRE\\\\',\n",
       " '\\\\\\\\layla\\\\\\\\Documentos\\\\\\\\STOCK\\\\Stock 2024\\\\10- ROTURAS\\\\INFORME\\\\1-ENERO\\\\',\n",
       " '\\\\\\\\layla\\\\\\\\Documentos\\\\\\\\STOCK\\\\Stock 2024\\\\10- ROTURAS\\\\INFORME\\\\10-OCTUBRE\\\\',\n",
       " '\\\\\\\\layla\\\\\\\\Documentos\\\\\\\\STOCK\\\\Stock 2024\\\\10- ROTURAS\\\\INFORME\\\\11-NOVIEMBRE\\\\',\n",
       " '\\\\\\\\layla\\\\\\\\Documentos\\\\\\\\STOCK\\\\Stock 2024\\\\10- ROTURAS\\\\INFORME\\\\12-DICIEMBRE\\\\',\n",
       " '\\\\\\\\layla\\\\\\\\Documentos\\\\\\\\STOCK\\\\Stock 2024\\\\10- ROTURAS\\\\INFORME\\\\2-FEBRERO\\\\',\n",
       " '\\\\\\\\layla\\\\\\\\Documentos\\\\\\\\STOCK\\\\Stock 2024\\\\10- ROTURAS\\\\INFORME\\\\3-MARZO\\\\',\n",
       " '\\\\\\\\layla\\\\\\\\Documentos\\\\\\\\STOCK\\\\Stock 2024\\\\10- ROTURAS\\\\INFORME\\\\4-ABRIL\\\\',\n",
       " '\\\\\\\\layla\\\\\\\\Documentos\\\\\\\\STOCK\\\\Stock 2024\\\\10- ROTURAS\\\\INFORME\\\\5-MAYO\\\\',\n",
       " '\\\\\\\\layla\\\\\\\\Documentos\\\\\\\\STOCK\\\\Stock 2024\\\\10- ROTURAS\\\\INFORME\\\\6-JUNIO\\\\',\n",
       " '\\\\\\\\layla\\\\\\\\Documentos\\\\\\\\STOCK\\\\Stock 2024\\\\10- ROTURAS\\\\INFORME\\\\7-JULIO\\\\',\n",
       " '\\\\\\\\layla\\\\\\\\Documentos\\\\\\\\STOCK\\\\Stock 2024\\\\10- ROTURAS\\\\INFORME\\\\8-AGOSTO\\\\',\n",
       " '\\\\\\\\layla\\\\\\\\Documentos\\\\\\\\STOCK\\\\Stock 2024\\\\10- ROTURAS\\\\INFORME\\\\9-SEPTIEMBRE\\\\']"
      ]
     },
     "execution_count": 40,
     "metadata": {},
     "output_type": "execute_result"
    }
   ],
   "source": [
    "rutas_meses = []\n",
    "\n",
    "for ruta_imagen in rutas_imagen:\n",
    "    # Busca todas las subcarpetas dentro de la carpeta \"IMAGEN\"\n",
    "    subcarpetas = glob.glob(os.path.join(ruta_imagen, '*/'))\n",
    "\n",
    "    # Añade las rutas de las subcarpetas a la lista rutas_meses\n",
    "    rutas_meses.extend(subcarpetas)"
   ]
  },
  {
   "cell_type": "code",
   "execution_count": 41,
   "metadata": {},
   "outputs": [
    {
     "name": "stdout",
     "output_type": "stream",
     "text": [
      "Carpeta: \\\\layla\\\\Documentos\\\\STOCK\\Stock 2021\\10- ROTURAS\\INFORME\\01 - ENERO2021\\, Último archivo: \\\\layla\\\\Documentos\\\\STOCK\\Stock 2021\\10- ROTURAS\\INFORME\\01 - ENERO2021\\Informe 30-01-2021.xlsx\n",
      "Carpeta: \\\\layla\\\\Documentos\\\\STOCK\\Stock 2021\\10- ROTURAS\\INFORME\\02 - FEBRERO2021\\, Último archivo: \\\\layla\\\\Documentos\\\\STOCK\\Stock 2021\\10- ROTURAS\\INFORME\\02 - FEBRERO2021\\Informe 27-02-2021.xlsx\n",
      "Carpeta: \\\\layla\\\\Documentos\\\\STOCK\\Stock 2021\\10- ROTURAS\\INFORME\\03 - MARZO 2021\\, Último archivo: \\\\layla\\\\Documentos\\\\STOCK\\Stock 2021\\10- ROTURAS\\INFORME\\03 - MARZO 2021\\Informe 31-03-2021.xlsx\n",
      "Carpeta: \\\\layla\\\\Documentos\\\\STOCK\\Stock 2021\\10- ROTURAS\\INFORME\\04 - ABRIL2021\\, Último archivo: \\\\layla\\\\Documentos\\\\STOCK\\Stock 2021\\10- ROTURAS\\INFORME\\04 - ABRIL2021\\Informe 30-04-2021.xlsx\n",
      "Carpeta: \\\\layla\\\\Documentos\\\\STOCK\\Stock 2021\\10- ROTURAS\\INFORME\\05 - MAYO2021\\, Último archivo: \\\\layla\\\\Documentos\\\\STOCK\\Stock 2021\\10- ROTURAS\\INFORME\\05 - MAYO2021\\Informe 31-05-2021.xlsx\n",
      "Carpeta: \\\\layla\\\\Documentos\\\\STOCK\\Stock 2021\\10- ROTURAS\\INFORME\\06 - JUNIO2021\\, Último archivo: \\\\layla\\\\Documentos\\\\STOCK\\Stock 2021\\10- ROTURAS\\INFORME\\06 - JUNIO2021\\Informe 30-06-2021.xlsx\n",
      "Carpeta: \\\\layla\\\\Documentos\\\\STOCK\\Stock 2021\\10- ROTURAS\\INFORME\\07- JULIO 2021\\, Último archivo: \\\\layla\\\\Documentos\\\\STOCK\\Stock 2021\\10- ROTURAS\\INFORME\\07- JULIO 2021\\Informe 31-07-2021.xlsx\n",
      "Carpeta: \\\\layla\\\\Documentos\\\\STOCK\\Stock 2021\\10- ROTURAS\\INFORME\\08- AGOSTO 2021\\, Último archivo: \\\\layla\\\\Documentos\\\\STOCK\\Stock 2021\\10- ROTURAS\\INFORME\\08- AGOSTO 2021\\Informe 31-08-2021.xlsx\n",
      "Carpeta: \\\\layla\\\\Documentos\\\\STOCK\\Stock 2021\\10- ROTURAS\\INFORME\\09- SEPTIEMBRE 2021\\, Último archivo: \\\\layla\\\\Documentos\\\\STOCK\\Stock 2021\\10- ROTURAS\\INFORME\\09- SEPTIEMBRE 2021\\Informe 01-10-2021.xlsx\n",
      "Carpeta: \\\\layla\\\\Documentos\\\\STOCK\\Stock 2021\\10- ROTURAS\\INFORME\\10- OCTUBRE 2021\\, Último archivo: \\\\layla\\\\Documentos\\\\STOCK\\Stock 2021\\10- ROTURAS\\INFORME\\10- OCTUBRE 2021\\Informe 30-10-2021.xlsx\n",
      "Carpeta: \\\\layla\\\\Documentos\\\\STOCK\\Stock 2021\\10- ROTURAS\\INFORME\\11 NOVIEMBRE\\, Último archivo: \\\\layla\\\\Documentos\\\\STOCK\\Stock 2021\\10- ROTURAS\\INFORME\\11 NOVIEMBRE\\Informe 30-11-2021.xlsx\n",
      "Carpeta: \\\\layla\\\\Documentos\\\\STOCK\\Stock 2021\\10- ROTURAS\\INFORME\\12- DICIEMBRE 2021\\, Último archivo: \\\\layla\\\\Documentos\\\\STOCK\\Stock 2021\\10- ROTURAS\\INFORME\\12- DICIEMBRE 2021\\Informe 31-12-2021.xlsx\n",
      "Carpeta: \\\\layla\\\\Documentos\\\\STOCK\\Stock 2022\\10- ROTURAS\\INFORME\\01- ENERO\\, Último archivo: \\\\layla\\\\Documentos\\\\STOCK\\Stock 2022\\10- ROTURAS\\INFORME\\01- ENERO\\Informe 31-01-2022.xlsx\n",
      "Carpeta: \\\\layla\\\\Documentos\\\\STOCK\\Stock 2022\\10- ROTURAS\\INFORME\\02- FEBRERO\\, Último archivo: \\\\layla\\\\Documentos\\\\STOCK\\Stock 2022\\10- ROTURAS\\INFORME\\02- FEBRERO\\Informe 26-02-2022.xlsx\n",
      "Carpeta: \\\\layla\\\\Documentos\\\\STOCK\\Stock 2022\\10- ROTURAS\\INFORME\\03- MARZO\\, Último archivo: \\\\layla\\\\Documentos\\\\STOCK\\Stock 2022\\10- ROTURAS\\INFORME\\03- MARZO\\Informe 31-03-2022.xlsx\n",
      "Carpeta: \\\\layla\\\\Documentos\\\\STOCK\\Stock 2022\\10- ROTURAS\\INFORME\\04- ABRIL\\, Último archivo: \\\\layla\\\\Documentos\\\\STOCK\\Stock 2022\\10- ROTURAS\\INFORME\\04- ABRIL\\Informe 30-04-2022.xlsx\n",
      "Carpeta: \\\\layla\\\\Documentos\\\\STOCK\\Stock 2022\\10- ROTURAS\\INFORME\\05- MAYO\\, Último archivo: \\\\layla\\\\Documentos\\\\STOCK\\Stock 2022\\10- ROTURAS\\INFORME\\05- MAYO\\Informe 31-05-2022.xlsx\n",
      "Carpeta: \\\\layla\\\\Documentos\\\\STOCK\\Stock 2022\\10- ROTURAS\\INFORME\\06- JUNIO\\, Último archivo: \\\\layla\\\\Documentos\\\\STOCK\\Stock 2022\\10- ROTURAS\\INFORME\\06- JUNIO\\Informe 30-06-2022.xlsx\n",
      "Carpeta: \\\\layla\\\\Documentos\\\\STOCK\\Stock 2022\\10- ROTURAS\\INFORME\\07- JULIO\\, Último archivo: \\\\layla\\\\Documentos\\\\STOCK\\Stock 2022\\10- ROTURAS\\INFORME\\07- JULIO\\Informe 30-07-2022.xlsx\n",
      "Carpeta: \\\\layla\\\\Documentos\\\\STOCK\\Stock 2022\\10- ROTURAS\\INFORME\\08- AGOSTO\\, Último archivo: \\\\layla\\\\Documentos\\\\STOCK\\Stock 2022\\10- ROTURAS\\INFORME\\08- AGOSTO\\Informe 31-08-2022.xlsx\n",
      "Carpeta: \\\\layla\\\\Documentos\\\\STOCK\\Stock 2022\\10- ROTURAS\\INFORME\\09- SEPTIEMBRE\\, Último archivo: \\\\layla\\\\Documentos\\\\STOCK\\Stock 2022\\10- ROTURAS\\INFORME\\09- SEPTIEMBRE\\Informe 30-09-2022.xlsx\n",
      "Carpeta: \\\\layla\\\\Documentos\\\\STOCK\\Stock 2022\\10- ROTURAS\\INFORME\\10-OCTUBRE\\, Último archivo: \\\\layla\\\\Documentos\\\\STOCK\\Stock 2022\\10- ROTURAS\\INFORME\\10-OCTUBRE\\Informe 31-10-2022.xlsx\n",
      "Carpeta: \\\\layla\\\\Documentos\\\\STOCK\\Stock 2022\\10- ROTURAS\\INFORME\\11- NOVIEMBRE\\, Último archivo: \\\\layla\\\\Documentos\\\\STOCK\\Stock 2022\\10- ROTURAS\\INFORME\\11- NOVIEMBRE\\Informe 30-11-2022.xlsx\n",
      "Carpeta: \\\\layla\\\\Documentos\\\\STOCK\\Stock 2022\\10- ROTURAS\\INFORME\\12-DICIEMBRE\\, Último archivo: \\\\layla\\\\Documentos\\\\STOCK\\Stock 2022\\10- ROTURAS\\INFORME\\12-DICIEMBRE\\Informe 31-12-2022.xlsx\n",
      "Carpeta: \\\\layla\\\\Documentos\\\\STOCK\\Stock 2023\\10- ROTURAS\\INFORME\\1-ENERO\\, Último archivo: \\\\layla\\\\Documentos\\\\STOCK\\Stock 2023\\10- ROTURAS\\INFORME\\1-ENERO\\Informe 31-01-2023.xlsx\n",
      "Carpeta: \\\\layla\\\\Documentos\\\\STOCK\\Stock 2023\\10- ROTURAS\\INFORME\\10-OCTUBRE\\, Último archivo: \\\\layla\\\\Documentos\\\\STOCK\\Stock 2023\\10- ROTURAS\\INFORME\\10-OCTUBRE\\Informe 31-10-2023.xlsx\n",
      "Carpeta: \\\\layla\\\\Documentos\\\\STOCK\\Stock 2023\\10- ROTURAS\\INFORME\\11-NOVIEMBRE\\, Último archivo: \\\\layla\\\\Documentos\\\\STOCK\\Stock 2023\\10- ROTURAS\\INFORME\\11-NOVIEMBRE\\Informe 30-11-2023.xlsx\n",
      "Carpeta: \\\\layla\\\\Documentos\\\\STOCK\\Stock 2023\\10- ROTURAS\\INFORME\\12-DICIEMBRE\\, Último archivo: \\\\layla\\\\Documentos\\\\STOCK\\Stock 2023\\10- ROTURAS\\INFORME\\12-DICIEMBRE\\Informe 13-12-2023.xlsx\n",
      "Carpeta: \\\\layla\\\\Documentos\\\\STOCK\\Stock 2023\\10- ROTURAS\\INFORME\\2-FEBRERO\\, Último archivo: \\\\layla\\\\Documentos\\\\STOCK\\Stock 2023\\10- ROTURAS\\INFORME\\2-FEBRERO\\Informe 28-02-2023.xlsx\n",
      "Carpeta: \\\\layla\\\\Documentos\\\\STOCK\\Stock 2023\\10- ROTURAS\\INFORME\\3-MARZO\\, Último archivo: \\\\layla\\\\Documentos\\\\STOCK\\Stock 2023\\10- ROTURAS\\INFORME\\3-MARZO\\Informe 31-03-2023.xlsx\n",
      "Carpeta: \\\\layla\\\\Documentos\\\\STOCK\\Stock 2023\\10- ROTURAS\\INFORME\\4-ABRIL\\, Último archivo: \\\\layla\\\\Documentos\\\\STOCK\\Stock 2023\\10- ROTURAS\\INFORME\\4-ABRIL\\Informe 29-04-2023.xlsx\n",
      "Carpeta: \\\\layla\\\\Documentos\\\\STOCK\\Stock 2023\\10- ROTURAS\\INFORME\\5-MAYO\\, Último archivo: \\\\layla\\\\Documentos\\\\STOCK\\Stock 2023\\10- ROTURAS\\INFORME\\5-MAYO\\Informe 31-05-2023.xlsx\n",
      "Carpeta: \\\\layla\\\\Documentos\\\\STOCK\\Stock 2023\\10- ROTURAS\\INFORME\\6-JUNIO\\, Último archivo: \\\\layla\\\\Documentos\\\\STOCK\\Stock 2023\\10- ROTURAS\\INFORME\\6-JUNIO\\informe 30-06-2023.xlsx\n",
      "Carpeta: \\\\layla\\\\Documentos\\\\STOCK\\Stock 2023\\10- ROTURAS\\INFORME\\7-JULIO\\, Último archivo: \\\\layla\\\\Documentos\\\\STOCK\\Stock 2023\\10- ROTURAS\\INFORME\\7-JULIO\\informe 31-07-2023.xlsx\n",
      "Carpeta: \\\\layla\\\\Documentos\\\\STOCK\\Stock 2023\\10- ROTURAS\\INFORME\\8-AGOSTO\\, Último archivo: \\\\layla\\\\Documentos\\\\STOCK\\Stock 2023\\10- ROTURAS\\INFORME\\8-AGOSTO\\INFORME 31-08-2023.xlsx\n",
      "Carpeta: \\\\layla\\\\Documentos\\\\STOCK\\Stock 2023\\10- ROTURAS\\INFORME\\9-SEPTIEMBRE\\, Último archivo: \\\\layla\\\\Documentos\\\\STOCK\\Stock 2023\\10- ROTURAS\\INFORME\\9-SEPTIEMBRE\\Informe 30-09-2023.xlsx\n"
     ]
    }
   ],
   "source": [
    "ultimo_archivo_por_carpeta = {}\n",
    "\n",
    "for ruta in rutas_meses:\n",
    "    # Lista todos los archivos en la carpeta actual\n",
    "    archivos = [os.path.join(ruta, archivo) for archivo in os.listdir(ruta) if os.path.isfile(os.path.join(ruta, archivo))]\n",
    "\n",
    "    # Si la carpeta está vacía, continúa con la siguiente\n",
    "    if not archivos:\n",
    "        continue\n",
    "\n",
    "    # Encuentra el archivo con la fecha de modificación más reciente\n",
    "    ultimo_archivo = max(archivos, key=os.path.getmtime)\n",
    "\n",
    "    # Agrega el archivo a un diccionario con la ruta de la carpeta como clave\n",
    "    ultimo_archivo_por_carpeta[ruta] = ultimo_archivo\n",
    "\n",
    "# Imprime el último archivo de cada carpeta\n",
    "for carpeta, archivo in ultimo_archivo_por_carpeta.items():\n",
    "    print(f\"Carpeta: {carpeta}, Último archivo: {archivo}\")\n"
   ]
  },
  {
   "cell_type": "code",
   "execution_count": 48,
   "metadata": {},
   "outputs": [
    {
     "name": "stdout",
     "output_type": "stream",
     "text": [
      "Carpeta: \\\\layla\\\\Documentos\\\\STOCK\\Stock 2021\\10- ROTURAS\\INFORME\\01 - ENERO2021\\\n",
      "Último archivo: \\\\layla\\\\Documentos\\\\STOCK\\Stock 2021\\10- ROTURAS\\INFORME\\01 - ENERO2021\\Informe 30-01-2021.xlsx\n",
      "\n",
      "Carpeta: \\\\layla\\\\Documentos\\\\STOCK\\Stock 2021\\10- ROTURAS\\INFORME\\02 - FEBRERO2021\\\n",
      "Último archivo: \\\\layla\\\\Documentos\\\\STOCK\\Stock 2021\\10- ROTURAS\\INFORME\\02 - FEBRERO2021\\Informe 27-02-2021.xlsx\n",
      "\n",
      "Carpeta: \\\\layla\\\\Documentos\\\\STOCK\\Stock 2021\\10- ROTURAS\\INFORME\\03 - MARZO 2021\\\n",
      "Último archivo: \\\\layla\\\\Documentos\\\\STOCK\\Stock 2021\\10- ROTURAS\\INFORME\\03 - MARZO 2021\\Informe 31-03-2021.xlsx\n",
      "\n",
      "Carpeta: \\\\layla\\\\Documentos\\\\STOCK\\Stock 2021\\10- ROTURAS\\INFORME\\04 - ABRIL2021\\\n",
      "Último archivo: \\\\layla\\\\Documentos\\\\STOCK\\Stock 2021\\10- ROTURAS\\INFORME\\04 - ABRIL2021\\Informe 30-04-2021.xlsx\n",
      "\n",
      "Carpeta: \\\\layla\\\\Documentos\\\\STOCK\\Stock 2021\\10- ROTURAS\\INFORME\\05 - MAYO2021\\\n",
      "Último archivo: \\\\layla\\\\Documentos\\\\STOCK\\Stock 2021\\10- ROTURAS\\INFORME\\05 - MAYO2021\\Informe 31-05-2021.xlsx\n",
      "\n",
      "Carpeta: \\\\layla\\\\Documentos\\\\STOCK\\Stock 2021\\10- ROTURAS\\INFORME\\06 - JUNIO2021\\\n",
      "Último archivo: \\\\layla\\\\Documentos\\\\STOCK\\Stock 2021\\10- ROTURAS\\INFORME\\06 - JUNIO2021\\Informe 30-06-2021.xlsx\n",
      "\n",
      "Carpeta: \\\\layla\\\\Documentos\\\\STOCK\\Stock 2021\\10- ROTURAS\\INFORME\\07- JULIO 2021\\\n",
      "Último archivo: \\\\layla\\\\Documentos\\\\STOCK\\Stock 2021\\10- ROTURAS\\INFORME\\07- JULIO 2021\\Informe 31-07-2021.xlsx\n",
      "\n",
      "Carpeta: \\\\layla\\\\Documentos\\\\STOCK\\Stock 2021\\10- ROTURAS\\INFORME\\08- AGOSTO 2021\\\n",
      "Último archivo: \\\\layla\\\\Documentos\\\\STOCK\\Stock 2021\\10- ROTURAS\\INFORME\\08- AGOSTO 2021\\Informe 31-08-2021.xlsx\n",
      "\n",
      "Carpeta: \\\\layla\\\\Documentos\\\\STOCK\\Stock 2021\\10- ROTURAS\\INFORME\\09- SEPTIEMBRE 2021\\\n",
      "Último archivo: \\\\layla\\\\Documentos\\\\STOCK\\Stock 2021\\10- ROTURAS\\INFORME\\09- SEPTIEMBRE 2021\\Informe 01-10-2021.xlsx\n",
      "\n",
      "Carpeta: \\\\layla\\\\Documentos\\\\STOCK\\Stock 2021\\10- ROTURAS\\INFORME\\10- OCTUBRE 2021\\\n",
      "Último archivo: \\\\layla\\\\Documentos\\\\STOCK\\Stock 2021\\10- ROTURAS\\INFORME\\10- OCTUBRE 2021\\Informe 30-10-2021.xlsx\n",
      "\n",
      "Carpeta: \\\\layla\\\\Documentos\\\\STOCK\\Stock 2021\\10- ROTURAS\\INFORME\\11 NOVIEMBRE\\\n",
      "Último archivo: \\\\layla\\\\Documentos\\\\STOCK\\Stock 2021\\10- ROTURAS\\INFORME\\11 NOVIEMBRE\\Informe 30-11-2021.xlsx\n",
      "\n",
      "Carpeta: \\\\layla\\\\Documentos\\\\STOCK\\Stock 2021\\10- ROTURAS\\INFORME\\12- DICIEMBRE 2021\\\n",
      "Último archivo: \\\\layla\\\\Documentos\\\\STOCK\\Stock 2021\\10- ROTURAS\\INFORME\\12- DICIEMBRE 2021\\Informe 31-12-2021.xlsx\n",
      "\n",
      "Carpeta: \\\\layla\\\\Documentos\\\\STOCK\\Stock 2022\\10- ROTURAS\\INFORME\\01- ENERO\\\n",
      "Último archivo: \\\\layla\\\\Documentos\\\\STOCK\\Stock 2022\\10- ROTURAS\\INFORME\\01- ENERO\\Informe 31-01-2022.xlsx\n",
      "\n",
      "Carpeta: \\\\layla\\\\Documentos\\\\STOCK\\Stock 2022\\10- ROTURAS\\INFORME\\02- FEBRERO\\\n",
      "Último archivo: \\\\layla\\\\Documentos\\\\STOCK\\Stock 2022\\10- ROTURAS\\INFORME\\02- FEBRERO\\Informe 26-02-2022.xlsx\n",
      "\n",
      "Carpeta: \\\\layla\\\\Documentos\\\\STOCK\\Stock 2022\\10- ROTURAS\\INFORME\\03- MARZO\\\n",
      "Último archivo: \\\\layla\\\\Documentos\\\\STOCK\\Stock 2022\\10- ROTURAS\\INFORME\\03- MARZO\\Informe 31-03-2022.xlsx\n",
      "\n",
      "Carpeta: \\\\layla\\\\Documentos\\\\STOCK\\Stock 2022\\10- ROTURAS\\INFORME\\04- ABRIL\\\n",
      "Último archivo: \\\\layla\\\\Documentos\\\\STOCK\\Stock 2022\\10- ROTURAS\\INFORME\\04- ABRIL\\Informe 30-04-2022.xlsx\n",
      "\n",
      "Carpeta: \\\\layla\\\\Documentos\\\\STOCK\\Stock 2022\\10- ROTURAS\\INFORME\\05- MAYO\\\n",
      "Último archivo: \\\\layla\\\\Documentos\\\\STOCK\\Stock 2022\\10- ROTURAS\\INFORME\\05- MAYO\\Informe 31-05-2022.xlsx\n",
      "\n",
      "Carpeta: \\\\layla\\\\Documentos\\\\STOCK\\Stock 2022\\10- ROTURAS\\INFORME\\06- JUNIO\\\n",
      "Último archivo: \\\\layla\\\\Documentos\\\\STOCK\\Stock 2022\\10- ROTURAS\\INFORME\\06- JUNIO\\Informe 30-06-2022.xlsx\n",
      "\n",
      "Carpeta: \\\\layla\\\\Documentos\\\\STOCK\\Stock 2022\\10- ROTURAS\\INFORME\\07- JULIO\\\n",
      "Último archivo: \\\\layla\\\\Documentos\\\\STOCK\\Stock 2022\\10- ROTURAS\\INFORME\\07- JULIO\\Informe 30-07-2022.xlsx\n",
      "\n",
      "Carpeta: \\\\layla\\\\Documentos\\\\STOCK\\Stock 2022\\10- ROTURAS\\INFORME\\08- AGOSTO\\\n",
      "Último archivo: \\\\layla\\\\Documentos\\\\STOCK\\Stock 2022\\10- ROTURAS\\INFORME\\08- AGOSTO\\Informe 31-08-2022.xlsx\n",
      "\n",
      "Carpeta: \\\\layla\\\\Documentos\\\\STOCK\\Stock 2022\\10- ROTURAS\\INFORME\\09- SEPTIEMBRE\\\n",
      "Último archivo: \\\\layla\\\\Documentos\\\\STOCK\\Stock 2022\\10- ROTURAS\\INFORME\\09- SEPTIEMBRE\\Informe 30-09-2022.xlsx\n",
      "\n",
      "Carpeta: \\\\layla\\\\Documentos\\\\STOCK\\Stock 2022\\10- ROTURAS\\INFORME\\10-OCTUBRE\\\n",
      "Último archivo: \\\\layla\\\\Documentos\\\\STOCK\\Stock 2022\\10- ROTURAS\\INFORME\\10-OCTUBRE\\Informe 31-10-2022.xlsx\n",
      "\n",
      "Carpeta: \\\\layla\\\\Documentos\\\\STOCK\\Stock 2022\\10- ROTURAS\\INFORME\\11- NOVIEMBRE\\\n",
      "Último archivo: \\\\layla\\\\Documentos\\\\STOCK\\Stock 2022\\10- ROTURAS\\INFORME\\11- NOVIEMBRE\\Informe 30-11-2022.xlsx\n",
      "\n",
      "Carpeta: \\\\layla\\\\Documentos\\\\STOCK\\Stock 2022\\10- ROTURAS\\INFORME\\12-DICIEMBRE\\\n",
      "Último archivo: \\\\layla\\\\Documentos\\\\STOCK\\Stock 2022\\10- ROTURAS\\INFORME\\12-DICIEMBRE\\Informe 31-12-2022.xlsx\n",
      "\n",
      "Carpeta: \\\\layla\\\\Documentos\\\\STOCK\\Stock 2023\\10- ROTURAS\\INFORME\\1-ENERO\\\n",
      "Último archivo: \\\\layla\\\\Documentos\\\\STOCK\\Stock 2023\\10- ROTURAS\\INFORME\\1-ENERO\\Informe 31-01-2023.xlsx\n",
      "\n",
      "Carpeta: \\\\layla\\\\Documentos\\\\STOCK\\Stock 2023\\10- ROTURAS\\INFORME\\10-OCTUBRE\\\n",
      "Último archivo: \\\\layla\\\\Documentos\\\\STOCK\\Stock 2023\\10- ROTURAS\\INFORME\\10-OCTUBRE\\Informe 31-10-2023.xlsx\n",
      "\n",
      "Carpeta: \\\\layla\\\\Documentos\\\\STOCK\\Stock 2023\\10- ROTURAS\\INFORME\\11-NOVIEMBRE\\\n",
      "Último archivo: \\\\layla\\\\Documentos\\\\STOCK\\Stock 2023\\10- ROTURAS\\INFORME\\11-NOVIEMBRE\\Informe 30-11-2023.xlsx\n",
      "\n",
      "Carpeta: \\\\layla\\\\Documentos\\\\STOCK\\Stock 2023\\10- ROTURAS\\INFORME\\12-DICIEMBRE\\\n",
      "Último archivo: \\\\layla\\\\Documentos\\\\STOCK\\Stock 2023\\10- ROTURAS\\INFORME\\12-DICIEMBRE\\Informe 13-12-2023.xlsx\n",
      "\n",
      "Carpeta: \\\\layla\\\\Documentos\\\\STOCK\\Stock 2023\\10- ROTURAS\\INFORME\\2-FEBRERO\\\n",
      "Último archivo: \\\\layla\\\\Documentos\\\\STOCK\\Stock 2023\\10- ROTURAS\\INFORME\\2-FEBRERO\\Informe 28-02-2023.xlsx\n",
      "\n",
      "Carpeta: \\\\layla\\\\Documentos\\\\STOCK\\Stock 2023\\10- ROTURAS\\INFORME\\3-MARZO\\\n",
      "Último archivo: \\\\layla\\\\Documentos\\\\STOCK\\Stock 2023\\10- ROTURAS\\INFORME\\3-MARZO\\Informe 31-03-2023.xlsx\n",
      "\n",
      "Carpeta: \\\\layla\\\\Documentos\\\\STOCK\\Stock 2023\\10- ROTURAS\\INFORME\\4-ABRIL\\\n",
      "Último archivo: \\\\layla\\\\Documentos\\\\STOCK\\Stock 2023\\10- ROTURAS\\INFORME\\4-ABRIL\\Informe 29-04-2023.xlsx\n",
      "\n",
      "Carpeta: \\\\layla\\\\Documentos\\\\STOCK\\Stock 2023\\10- ROTURAS\\INFORME\\5-MAYO\\\n",
      "Último archivo: \\\\layla\\\\Documentos\\\\STOCK\\Stock 2023\\10- ROTURAS\\INFORME\\5-MAYO\\Informe 31-05-2023.xlsx\n",
      "\n",
      "Carpeta: \\\\layla\\\\Documentos\\\\STOCK\\Stock 2023\\10- ROTURAS\\INFORME\\6-JUNIO\\\n",
      "Último archivo: \\\\layla\\\\Documentos\\\\STOCK\\Stock 2023\\10- ROTURAS\\INFORME\\6-JUNIO\\informe 30-06-2023.xlsx\n",
      "\n",
      "Carpeta: \\\\layla\\\\Documentos\\\\STOCK\\Stock 2023\\10- ROTURAS\\INFORME\\7-JULIO\\\n",
      "Último archivo: \\\\layla\\\\Documentos\\\\STOCK\\Stock 2023\\10- ROTURAS\\INFORME\\7-JULIO\\informe 31-07-2023.xlsx\n",
      "\n",
      "Carpeta: \\\\layla\\\\Documentos\\\\STOCK\\Stock 2023\\10- ROTURAS\\INFORME\\8-AGOSTO\\\n",
      "Último archivo: \\\\layla\\\\Documentos\\\\STOCK\\Stock 2023\\10- ROTURAS\\INFORME\\8-AGOSTO\\INFORME 31-08-2023.xlsx\n",
      "\n",
      "Carpeta: \\\\layla\\\\Documentos\\\\STOCK\\Stock 2023\\10- ROTURAS\\INFORME\\9-SEPTIEMBRE\\\n",
      "Último archivo: \\\\layla\\\\Documentos\\\\STOCK\\Stock 2023\\10- ROTURAS\\INFORME\\9-SEPTIEMBRE\\Informe 30-09-2023.xlsx\n",
      "\n"
     ]
    }
   ],
   "source": [
    "for carpeta, archivo in ultimo_archivo_por_carpeta.items():\n",
    "    print(f\"Carpeta: {carpeta}\\nÚltimo archivo: {archivo}\\n\")\n"
   ]
  },
  {
   "cell_type": "code",
   "execution_count": 49,
   "metadata": {},
   "outputs": [
    {
     "name": "stdout",
     "output_type": "stream",
     "text": [
      "             FECHA  CÓDIGO                       DESCRIPCIÓN  CANTIDAD  \\\n",
      "0       02/01/2021   313.0   ARR AMANDA LARGO FINO 10X500 GR      0.06   \n",
      "1       02/01/2021   338.0  YBA PLAYADITO CON PALO 10X 500GR      0.02   \n",
      "2       02/01/2021  3750.0            YBA ANDRESITO 10X500 G      0.03   \n",
      "3       02/01/2021  4668.0     GALLE PASEO SALVADO 14X300 gs      0.01   \n",
      "4       02/01/2021  6238.0               SIDRA 1888 6X750 CC      0.01   \n",
      "...            ...     ...                               ...       ...   \n",
      "133842         NaN     NaN                               NaN       NaN   \n",
      "133843         NaN     NaN                               NaN       NaN   \n",
      "133844         NaN     NaN                               NaN       NaN   \n",
      "133845         NaN     NaN                               NaN       NaN   \n",
      "133846         NaN     NaN                               NaN       NaN   \n",
      "\n",
      "         COSTO    TIPO  \n",
      "0       150.27  ROTURA  \n",
      "1       198.19  ROTURA  \n",
      "2       275.74  ROTURA  \n",
      "3        31.92  ROTURA  \n",
      "4       168.16  ROTURA  \n",
      "...        ...     ...  \n",
      "133842     NaN     NaN  \n",
      "133843     NaN     NaN  \n",
      "133844     NaN     NaN  \n",
      "133845     NaN     NaN  \n",
      "133846     NaN     NaN  \n",
      "\n",
      "[133847 rows x 6 columns]\n"
     ]
    }
   ],
   "source": [
    "import pandas as pd\n",
    "\n",
    "# Diccionario con las rutas de los últimos archivos de cada carpeta\n",
    "# ultimo_archivo_por_carpeta = { ... }  # Asume que este diccionario ya está definido\n",
    "\n",
    "datos_extraidos = []\n",
    "\n",
    "for ruta_archivo in ultimo_archivo_por_carpeta.values():\n",
    "    try:\n",
    "        # Leer los datos específicos de la hoja \"Datos\" del archivo Excel\n",
    "        df = pd.read_excel(ruta_archivo, sheet_name='Datos', usecols=['FECHA', 'CÓDIGO', 'DESCRIPCIÓN', 'CANTIDAD', 'COSTO', 'TIPO'])\n",
    "        datos_extraidos.append(df)\n",
    "    except Exception as e:\n",
    "        print(f\"Error al leer el archivo {ruta_archivo}: {e}\")\n",
    "\n",
    "# Combinar todos los DataFrames en uno solo, si es necesario\n",
    "df_combinado = pd.concat(datos_extraidos, ignore_index=True)\n",
    "\n",
    "# Mostrar el DataFrame combinado\n",
    "print(df_combinado)\n"
   ]
  },
  {
   "cell_type": "code",
   "execution_count": 56,
   "metadata": {},
   "outputs": [],
   "source": [
    "df_combinado['FECHA'] = pd.to_datetime(df_combinado['FECHA'], format='%d/%m/%Y')\n",
    "\n"
   ]
  },
  {
   "cell_type": "code",
   "execution_count": 57,
   "metadata": {},
   "outputs": [],
   "source": [
    "df_combinado.sort_values(by='FECHA', ascending=False, inplace=True)\n"
   ]
  },
  {
   "cell_type": "code",
   "execution_count": 58,
   "metadata": {},
   "outputs": [],
   "source": [
    "df_combinado.to_excel('datos_iniciales_roturas.xlsx')"
   ]
  },
  {
   "cell_type": "code",
   "execution_count": 79,
   "metadata": {},
   "outputs": [],
   "source": [
    "# Convertir la columna 'CÓDIGO' a string y eliminar el '.0'\n",
    "df_combinado['CÓDIGO'] = df_combinado['CÓDIGO'].astype(str)\n",
    "\n",
    "# Continuar con la comparación...\n"
   ]
  },
  {
   "cell_type": "code",
   "execution_count": 78,
   "metadata": {},
   "outputs": [],
   "source": [
    "df_combinado = pd.read_excel('datos_iniciales_roturas.xlsx')"
   ]
  },
  {
   "cell_type": "code",
   "execution_count": 83,
   "metadata": {},
   "outputs": [],
   "source": [
    "# Reemplazar '.0' por un espacio en blanco en la columna 'CÓDIGO'\n",
    "df_combinado['CÓDIGO'] = df_combinado['CÓDIGO'].str.replace('.0', '', regex=False)\n",
    "\n",
    "# Ahora puedes continuar con el procesamiento posterior de los datos\n"
   ]
  },
  {
   "cell_type": "code",
   "execution_count": 72,
   "metadata": {},
   "outputs": [],
   "source": [
    "import mysql.connector\n",
    "\n",
    "# Conexión a la base de datos\n",
    "db = mysql.connector.connect(\n",
    "    host=\"192.168.1.65\",\n",
    "    user=\"root\",\n",
    "    password=\"admin\",\n",
    "    database=\"Stock\"\n",
    ")\n",
    "\n",
    "cursor = db.cursor()"
   ]
  },
  {
   "cell_type": "code",
   "execution_count": 73,
   "metadata": {},
   "outputs": [],
   "source": [
    "import pandas as pd\n",
    "\n",
    "# Crear un cursor y ejecutar la consulta\n",
    "cursor = db.cursor()\n",
    "cursor.execute(\"SELECT codigo FROM maestro_articulos\")\n",
    "\n",
    "# Obtener todos los códigos de la tabla\n",
    "codigos_db = [item[0] for item in cursor.fetchall()]\n",
    "\n",
    "# Cerrar el cursor y la conexión\n",
    "cursor.close()\n",
    "db.close()\n"
   ]
  },
  {
   "cell_type": "code",
   "execution_count": 89,
   "metadata": {},
   "outputs": [
    {
     "name": "stdout",
     "output_type": "stream",
     "text": [
      "Códigos no encontrados en la base de datos: {'26413', '26119', '26514', '26193', '26703', '26016', '25829', '26003', '26172', '26430', '26520', '25947', '25847', '26004', '50000000164', '26512', '70522', '25804', '26420', '26513', '50542', '26012', '25865', '26005', '101578', '25893', '25951', '26017', '26122', '25903', '101591', '26015', '25891', '25841', '25671', '25850', '26565', '26847', '101557', '25848', '39671', '25810', '26070', '26185', '26002', '26034', '25844', '25862', '60000000621', '25812', '26090', '101569', '26133', '25956', '4781', '25713', '26539', '26590', '25837', '101544', '26704', '26026', 'nan', '26596', '26276', '60000000966', '26421', '26705', '101555', '26404', '26576', '26068', '26518', '101560', '50000000319', '26167', '26277', '25838', '101592', '26007', '3535', '26001', '25875', '101587', '47550', '26027', '25752', '26418', '26174', '26010', '26044', '26701', '25806', '26497', '25705', '25898', '101563', '26428', '25803', '25811', '25748', '25925', '15914', '26030', '101562', '26031', '26449', '26575', '26047', '107315', '26008', '101613', '26429', '25846', '2195', '26018', '26006', '26567', '26484', '25746', '26209', '25807', '101605', '25831', '50000000195', '26574', '101567', '26171', '26414', '25931', '25946', '5000000343', '101595', '101590', '26415', '101559'}\n"
     ]
    }
   ],
   "source": [
    "# Suponiendo que tu DataFrame se llama df_combinado y la columna de códigos se llama 'CÓDIGO'\n",
    "codigos_df = df_combinado['CÓDIGO'].unique()\n",
    "\n",
    "# Encontrar códigos en tu DataFrame que no estén en la base de datos\n",
    "codigos_no_encontrados = set(codigos_df) - set(codigos_db)\n",
    "\n",
    "print(\"Códigos no encontrados en la base de datos:\", codigos_no_encontrados)\n"
   ]
  },
  {
   "cell_type": "code",
   "execution_count": 90,
   "metadata": {},
   "outputs": [],
   "source": [
    "# Suponiendo que tienes una lista o conjunto de códigos no encontrados llamada codigos_no_encontrados\n",
    "\n",
    "# Filtrar el DataFrame para obtener solo las filas con códigos no encontrados\n",
    "df_codigos_no_encontrados = df_combinado[df_combinado['CÓDIGO'].isin(codigos_no_encontrados)]\n",
    "\n",
    "# Seleccionar solo las columnas 'CÓDIGO' y 'DESCRIPCIÓN'\n",
    "df_codigos_descripciones = df_codigos_no_encontrados[['CÓDIGO', 'DESCRIPCIÓN']]\n",
    "\n",
    "# Nombre del archivo de salida\n",
    "nombre_archivo_excel = 'codigos_no_encontrados_descripciones.xlsx'\n",
    "\n",
    "# Guardar el DataFrame en un archivo Excel\n",
    "df_codigos_descripciones.to_excel(nombre_archivo_excel, index=False)\n",
    "\n"
   ]
  }
 ],
 "metadata": {
  "kernelspec": {
   "display_name": "Python 3",
   "language": "python",
   "name": "python3"
  },
  "language_info": {
   "codemirror_mode": {
    "name": "ipython",
    "version": 3
   },
   "file_extension": ".py",
   "mimetype": "text/x-python",
   "name": "python",
   "nbconvert_exporter": "python",
   "pygments_lexer": "ipython3",
   "version": "3.11.6"
  }
 },
 "nbformat": 4,
 "nbformat_minor": 2
}
